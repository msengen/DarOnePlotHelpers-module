{
 "cells": [
  {
   "cell_type": "code",
   "execution_count": 1,
   "id": "9cb0df8c",
   "metadata": {},
   "outputs": [
    {
     "data": {
      "text/plain": [
       "Main.DarOnePlotHelpers"
      ]
     },
     "execution_count": 1,
     "metadata": {},
     "output_type": "execute_result"
    }
   ],
   "source": [
    "module DarOnePlotHelpers\n",
    "\n",
    "export make_plots, get_tracers, transform_3d_files\n",
    "\n",
    "\n",
    "\"\"\"\n",
    "    make_plots(dataset, filenames, tick_font, title_font)\n",
    "\n",
    "Creates a plot including designated files from dataset with specified font sizes for ticks and title.\n",
    "\"\"\"\n",
    "function make_plots(dataset, filenames, tick_font, title_font)\n",
    "    \n",
    "    plot_array = Any[]\n",
    "    \n",
    "    for file in filenames\n",
    "        data = dataset[file]\n",
    "        data_plot = plot(data[1, 1, 1, :], title=data.attrib[\"description\"], legend=false, xtickfontsize = tick_font, ytickfontsize = tick_font, xguidefontsize = title_font, yguidefontsize = title_font, titlefontsize=title_font, ylabel=data.attrib[\"units\"])\n",
    "        push!(plot_array, data_plot)\n",
    "    end\n",
    "    \n",
    "    plot(plot_array...)\n",
    "    \n",
    "end\n",
    "\n",
    "\"\"\"\n",
    "    get_tracers(start, stop, prefix)\n",
    "\n",
    "Generates a list of tracer names using designated string as prefix.\n",
    "\"\"\"\n",
    "function get_tracers(start, stop, prefix)\n",
    "    tracers = String[]\n",
    "    for i = start:stop\n",
    "        tracer_id = length(string(i)) < 2 ? \"0\"*string(i) : string(i)\n",
    "        tracer_name = \"TRAC\"*tracer_id\n",
    "        push!(tracers, tracer_name)\n",
    "    end\n",
    "    return tracers\n",
    "end\n",
    "\n",
    "\"\"\"\n",
    "    transform_3d_files(mfds[, verbose])\n",
    "\n",
    "Isolates groupings of tracers from generic 3d file.\n",
    "\n",
    "Optional parameter verbose dictates group sizes.\n",
    "Indicating verbose = 1 is non-verbose (automatic,) verbose = 0 is verbose.\n",
    "\"\"\"\n",
    "function transform_3d_files(mfds, verbose=1)\n",
    "    nutrients = get_tracers(1, 20, \"TRAC\")\n",
    "    zooplank = get_tracers(52, 67, \"TRAC\")\n",
    "    bacteria = get_tracers(68, 70, \"TRAC\")\n",
    "    if verbose == 0\n",
    "        pico_phyto = get_tracers(21, 24, \"TRAC\")\n",
    "        cocco = get_tracers(25, 29, \"TRAC\")\n",
    "        diazotroph = get_tracers(30, 34, \"TRAC\")\n",
    "        diatom = get_tracers(35, 43, \"TRAC\")\n",
    "        mix_din = get_tracers(44, 51, \"TRAC\")\n",
    "        return nutrients, pico_phyto, cocco, diazotroph, diatom, mix_din, zooplank, bacteria\n",
    "    end\n",
    "    phytoplank = get_tracers(21, 51, \"TRAC\")\n",
    "    return nutrients, phytoplank, zooplank, bacteria\n",
    "end\n",
    "\n",
    "end"
   ]
  },
  {
   "cell_type": "code",
   "execution_count": null,
   "id": "1b1d5d45",
   "metadata": {},
   "outputs": [],
   "source": []
  }
 ],
 "metadata": {
  "kernelspec": {
   "display_name": "Julia 1.7.3",
   "language": "julia",
   "name": "julia-1.7"
  },
  "language_info": {
   "file_extension": ".jl",
   "mimetype": "application/julia",
   "name": "julia",
   "version": "1.7.3"
  }
 },
 "nbformat": 4,
 "nbformat_minor": 5
}
